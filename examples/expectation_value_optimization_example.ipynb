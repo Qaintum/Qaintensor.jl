{
 "cells": [
  {
   "cell_type": "code",
   "execution_count": 1,
   "metadata": {},
   "outputs": [
    {
     "name": "stderr",
     "output_type": "stream",
     "text": [
      "┌ Info: Precompiling Qaintensor [c26a0288-a22f-4b8a-8630-7ac49e34be6b]\n",
      "└ @ Base loading.jl:1278\n"
     ]
    }
   ],
   "source": [
    "using Qaintessent\n",
    "using Qaintensor\n",
    "using Qaintensor: optimize_contraction_order!, network_graph, line_graph, tree_decomposition\n",
    "using BenchmarkTools"
   ]
  },
  {
   "cell_type": "markdown",
   "metadata": {},
   "source": [
    "# Optimizing contraction ordering for expectation-value-like TensorNetworks\n",
    "\n",
    "In [Markov & Shi, Simulating quantum computation by contracting tensor networks](https://arxiv.org/abs/quant-ph/0511069.) they study tensor networks that start with a product state and end with the projection onto another product state, as in the example below\n",
    "\n",
    "```\n",
    "1 □—————————————————□———————————□\n",
    "                    |\n",
    "2 □———————————□—————□—————□—————□\n",
    "              |           |\n",
    "3 □—————□———————————————————————□\n",
    "        |     |           |\n",
    "4 □—————□—————□———————————□—————□\n",
    "```\n",
    "\n",
    "These networks are the kind emerging from computing expectation values when starting with a product state. We see a great time saving also for MPS type circuits, **as long as no leg remains uncontracted** (for example, the output is projected into another MPS). The size of all legs of the original tensor should be roughly the same for getting good performance (no different orders of magnitude)\n",
    "\n",
    "They prove that the contraction complexity for tensor networks with no open legs is <i>exponential in the treewidth of the underlying graph</i>, and give an algorithm for constructing an near-optimal contraction ordering given a near-optimal tree decomposition of the network graph. \n",
    "\n",
    "Cases when substantial improvement is achieved are:\n",
    "\n",
    "* <i>Circuits of logarithmic depth</i>: If the depth of the circuit is logarithmic in the number of gates $T$, the complexity is polynomial in $T$\n",
    "* <i>Circuits of local interacting qubits</i>: The complexity goes with $\\exp(\\sqrt{r}\\sqrt{T})$, with $r$ the maximum distance between iteracting qubits and $T$ the total number of gates.\n",
    "\n",
    "Finding the optimal tree decomposition of a graph is NP-complete, but some heuristics perform reasonably well in finding a near-optimal one. We have implemented the _minimum fill-in_ heuristic to provide the tree decomposition. For optimizing the contraction order just apply `optimize_contraction_order!` to a tensor network.\n",
    "\n",
    "Below —after some setup code— you can find some benchmarking for typical circuits"
   ]
  },
  {
   "cell_type": "code",
   "execution_count": 2,
   "metadata": {},
   "outputs": [],
   "source": [
    "# some setup\n",
    "# copied from MPS branch\n",
    "function ClosedMPS(T::AbstractVector{Tensor})\n",
    "    l = length(T)\n",
    "    @assert ndims(T[1]) == 2\n",
    "    for i in 2:l-1\n",
    "        @assert ndims(T[i]) == 3\n",
    "    end\n",
    "     @assert ndims(T[l]) == 2\n",
    "\n",
    "    contractions = [Summation([1 => 2, 2 => 1]); [Summation([i => 3,i+1 => 1]) for i in 2:l-1]]\n",
    "    openidx = reverse([1 => 1; [i => 2 for i in 2:l]])\n",
    "    tn = TensorNetwork(T, contractions, openidx)\n",
    "    return tn\n",
    "end\n",
    "\n",
    "Base.ndims(T::Tensor) = ndims(T.data)\n",
    "Base.copy(net::TensorNetwork) = TensorNetwork(copy(net.tensors), copy(net.contractions), copy(net.openidx))\n",
    "\n",
    "function shift_summation(S::Summation, step)\n",
    "   return Summation([S.idx[i].first + step => S.idx[i].second for i in 1:2])\n",
    "end\n",
    "\n",
    "crand(dims...) = rand(ComplexF64, dims...)\n",
    "\n",
    "# generate tensor network for benchmarking\n",
    "\"\"\" Compute the expectation value of a random MPS when run through circuit `cgc`\"\"\"\n",
    "function expectation_value(cgc::CircuitGateChain{N}; is_decompose = false) where N\n",
    "    \n",
    "    tensors = Tensor.([crand(2,2), [crand(2,2,2) for i in 2:N-1]..., crand(2,2)])\n",
    "    T0 = ClosedMPS(tensors)\n",
    "    \n",
    "    T = copy(T0)\n",
    "    tensor_circuit!(T, cgc, is_decompose = is_decompose)\n",
    "    \n",
    "    # measure\n",
    "    T.contractions = [T.contractions; shift_summation.(T0.contractions, length(T.tensors))]\n",
    "    for i in 1:N\n",
    "        push!(T.tensors, T0.tensors[N+1-i])\n",
    "        push!(T.contractions, Summation([T.openidx[end], (length(T.tensors) => T0.openidx[N+1-i].second)]))\n",
    "        pop!(T.openidx)\n",
    "    end\n",
    "    T, cgc\n",
    "end\n",
    "\n",
    "\n",
    "# check that the new contraction order is valid (possible test)\n",
    "N = 20\n",
    "cgc = qft_circuit(N)\n",
    "TN0, _ = expectation_value(cgc)\n",
    "TN = copy(TN0)\n",
    "optimize_contraction_order!(TN)\n",
    "\n",
    "@assert TN.tensors == TN0.tensors\n",
    "@assert TN.openidx == TN0.openidx\n",
    "@assert Set(TN.contractions) == Set(TN0.contractions)"
   ]
  },
  {
   "cell_type": "markdown",
   "metadata": {},
   "source": [
    "# Benchmarking the contraction order that `optimize_contraction_order!` produces\n",
    "\n",
    "For each tensor network we have the following workflow\n",
    "\n",
    "1. Benchmark the normal contraction\n",
    "2. Optimize the contraction order and benchmark again the contraction\n",
    "3. Benchmark the whole workflow (copy + optimize contraction order + contraction) "
   ]
  },
  {
   "cell_type": "markdown",
   "metadata": {},
   "source": [
    "#  QFT"
   ]
  },
  {
   "cell_type": "code",
   "execution_count": 3,
   "metadata": {},
   "outputs": [],
   "source": [
    "N = 20\n",
    "\n",
    "cgc = qft_circuit(N)\n",
    " \n",
    "T0, _ = expectation_value(cgc);\n",
    "contract(T0); # contract once to compile some of the functions "
   ]
  },
  {
   "cell_type": "code",
   "execution_count": 4,
   "metadata": {},
   "outputs": [
    {
     "data": {
      "text/plain": [
       "BenchmarkTools.Trial: \n",
       "  memory estimate:  6.90 GiB\n",
       "  allocs estimate:  89151\n",
       "  --------------\n",
       "  minimum time:     3.076 s (21.43% GC)\n",
       "  median time:      3.119 s (21.08% GC)\n",
       "  mean time:        3.119 s (21.08% GC)\n",
       "  maximum time:     3.163 s (20.74% GC)\n",
       "  --------------\n",
       "  samples:          2\n",
       "  evals/sample:     1"
      ]
     },
     "execution_count": 4,
     "metadata": {},
     "output_type": "execute_result"
    }
   ],
   "source": [
    "T = copy(T0)\n",
    "@benchmark contract($T)"
   ]
  },
  {
   "cell_type": "code",
   "execution_count": 5,
   "metadata": {},
   "outputs": [
    {
     "data": {
      "text/plain": [
       "BenchmarkTools.Trial: \n",
       "  memory estimate:  208.76 MiB\n",
       "  allocs estimate:  36875\n",
       "  --------------\n",
       "  minimum time:     228.608 ms (7.19% GC)\n",
       "  median time:      257.525 ms (12.67% GC)\n",
       "  mean time:        282.472 ms (20.24% GC)\n",
       "  maximum time:     624.159 ms (71.90% GC)\n",
       "  --------------\n",
       "  samples:          18\n",
       "  evals/sample:     1"
      ]
     },
     "execution_count": 5,
     "metadata": {},
     "output_type": "execute_result"
    }
   ],
   "source": [
    "optimize_contraction_order!(T)\n",
    "@benchmark contract($T)"
   ]
  },
  {
   "cell_type": "code",
   "execution_count": 6,
   "metadata": {},
   "outputs": [
    {
     "data": {
      "text/plain": [
       "BenchmarkTools.Trial: \n",
       "  memory estimate:  511.85 MiB\n",
       "  allocs estimate:  3279901\n",
       "  --------------\n",
       "  minimum time:     594.870 ms (12.52% GC)\n",
       "  median time:      873.888 ms (37.49% GC)\n",
       "  mean time:        848.234 ms (35.65% GC)\n",
       "  maximum time:     990.146 ms (42.31% GC)\n",
       "  --------------\n",
       "  samples:          6\n",
       "  evals/sample:     1"
      ]
     },
     "execution_count": 6,
     "metadata": {},
     "output_type": "execute_result"
    }
   ],
   "source": [
    "function copy_and_optimize(T0)\n",
    "    T = copy(T0)\n",
    "    optimize_contraction_order!(T)\n",
    "    contract(T)\n",
    "end\n",
    "\n",
    "@benchmark copy_and_optimize($T0)"
   ]
  },
  {
   "cell_type": "markdown",
   "metadata": {},
   "source": [
    "# Testing with `is_decompose = true`"
   ]
  },
  {
   "cell_type": "code",
   "execution_count": 7,
   "metadata": {},
   "outputs": [],
   "source": [
    "N = 20\n",
    "\n",
    "cgc = qft_circuit(N)\n",
    " \n",
    "T0, _ = expectation_value(cgc, is_decompose = true);"
   ]
  },
  {
   "cell_type": "code",
   "execution_count": 8,
   "metadata": {},
   "outputs": [
    {
     "data": {
      "text/plain": [
       "BenchmarkTools.Trial: \n",
       "  memory estimate:  31.64 GiB\n",
       "  allocs estimate:  167578\n",
       "  --------------\n",
       "  minimum time:     26.174 s (18.71% GC)\n",
       "  median time:      26.174 s (18.71% GC)\n",
       "  mean time:        26.174 s (18.71% GC)\n",
       "  maximum time:     26.174 s (18.71% GC)\n",
       "  --------------\n",
       "  samples:          1\n",
       "  evals/sample:     1"
      ]
     },
     "execution_count": 8,
     "metadata": {},
     "output_type": "execute_result"
    }
   ],
   "source": [
    "T = copy(T0)\n",
    "@benchmark contract($T)"
   ]
  },
  {
   "cell_type": "code",
   "execution_count": 9,
   "metadata": {},
   "outputs": [
    {
     "data": {
      "text/plain": [
       "BenchmarkTools.Trial: \n",
       "  memory estimate:  142.09 MiB\n",
       "  allocs estimate:  61949\n",
       "  --------------\n",
       "  minimum time:     150.826 ms (6.72% GC)\n",
       "  median time:      217.194 ms (12.04% GC)\n",
       "  mean time:        221.207 ms (9.87% GC)\n",
       "  maximum time:     329.340 ms (8.00% GC)\n",
       "  --------------\n",
       "  samples:          23\n",
       "  evals/sample:     1"
      ]
     },
     "execution_count": 9,
     "metadata": {},
     "output_type": "execute_result"
    }
   ],
   "source": [
    "optimize_contraction_order!(T)\n",
    "@benchmark contract($T)"
   ]
  },
  {
   "cell_type": "code",
   "execution_count": 10,
   "metadata": {},
   "outputs": [
    {
     "data": {
      "text/plain": [
       "BenchmarkTools.Trial: \n",
       "  memory estimate:  688.75 MiB\n",
       "  allocs estimate:  6343072\n",
       "  --------------\n",
       "  minimum time:     767.063 ms (15.29% GC)\n",
       "  median time:      851.170 ms (14.97% GC)\n",
       "  mean time:        846.029 ms (15.11% GC)\n",
       "  maximum time:     907.540 ms (13.91% GC)\n",
       "  --------------\n",
       "  samples:          6\n",
       "  evals/sample:     1"
      ]
     },
     "execution_count": 10,
     "metadata": {},
     "output_type": "execute_result"
    }
   ],
   "source": [
    "@benchmark copy_and_optimize($T0)"
   ]
  },
  {
   "cell_type": "markdown",
   "metadata": {},
   "source": [
    "# Testing adder without decompose"
   ]
  },
  {
   "cell_type": "code",
   "execution_count": 11,
   "metadata": {},
   "outputs": [],
   "source": [
    "N = 7 # total qubits = 22\n",
    "cgc = vbe_adder_circuit(N)\n",
    "T0, _ = expectation_value(cgc);"
   ]
  },
  {
   "cell_type": "code",
   "execution_count": 12,
   "metadata": {},
   "outputs": [
    {
     "data": {
      "text/plain": [
       "BenchmarkTools.Trial: \n",
       "  memory estimate:  6.25 GiB\n",
       "  allocs estimate:  30905\n",
       "  --------------\n",
       "  minimum time:     5.277 s (28.22% GC)\n",
       "  median time:      5.277 s (28.22% GC)\n",
       "  mean time:        5.277 s (28.22% GC)\n",
       "  maximum time:     5.277 s (28.22% GC)\n",
       "  --------------\n",
       "  samples:          1\n",
       "  evals/sample:     1"
      ]
     },
     "execution_count": 12,
     "metadata": {},
     "output_type": "execute_result"
    }
   ],
   "source": [
    "T = copy(T0)\n",
    "@benchmark contract($T)"
   ]
  },
  {
   "cell_type": "code",
   "execution_count": 13,
   "metadata": {},
   "outputs": [
    {
     "data": {
      "text/plain": [
       "BenchmarkTools.Trial: \n",
       "  memory estimate:  567.12 MiB\n",
       "  allocs estimate:  14568\n",
       "  --------------\n",
       "  minimum time:     776.808 ms (7.45% GC)\n",
       "  median time:      834.194 ms (6.95% GC)\n",
       "  mean time:        900.369 ms (15.59% GC)\n",
       "  maximum time:     1.151 s (34.67% GC)\n",
       "  --------------\n",
       "  samples:          6\n",
       "  evals/sample:     1"
      ]
     },
     "execution_count": 13,
     "metadata": {},
     "output_type": "execute_result"
    }
   ],
   "source": [
    "optimize_contraction_order!(T)\n",
    "@benchmark contract($T)"
   ]
  },
  {
   "cell_type": "code",
   "execution_count": 14,
   "metadata": {},
   "outputs": [
    {
     "data": {
      "text/plain": [
       "BenchmarkTools.Trial: \n",
       "  memory estimate:  621.31 MiB\n",
       "  allocs estimate:  581792\n",
       "  --------------\n",
       "  minimum time:     814.420 ms (7.45% GC)\n",
       "  median time:      905.871 ms (8.26% GC)\n",
       "  mean time:        951.305 ms (14.63% GC)\n",
       "  maximum time:     1.210 s (19.17% GC)\n",
       "  --------------\n",
       "  samples:          6\n",
       "  evals/sample:     1"
      ]
     },
     "execution_count": 14,
     "metadata": {},
     "output_type": "execute_result"
    }
   ],
   "source": [
    "@benchmark copy_and_optimize($T0)"
   ]
  },
  {
   "cell_type": "markdown",
   "metadata": {},
   "source": [
    "# With decompose"
   ]
  },
  {
   "cell_type": "code",
   "execution_count": 15,
   "metadata": {},
   "outputs": [],
   "source": [
    "N = 7 # total qubits = 22\n",
    "cgc = vbe_adder_circuit(N)\n",
    "T0, _ = expectation_value(cgc, is_decompose = true);"
   ]
  },
  {
   "cell_type": "code",
   "execution_count": 16,
   "metadata": {},
   "outputs": [
    {
     "data": {
      "text/plain": [
       "BenchmarkTools.Trial: \n",
       "  memory estimate:  46.82 GiB\n",
       "  allocs estimate:  63580\n",
       "  --------------\n",
       "  minimum time:     28.811 s (22.24% GC)\n",
       "  median time:      28.811 s (22.24% GC)\n",
       "  mean time:        28.811 s (22.24% GC)\n",
       "  maximum time:     28.811 s (22.24% GC)\n",
       "  --------------\n",
       "  samples:          1\n",
       "  evals/sample:     1"
      ]
     },
     "execution_count": 16,
     "metadata": {},
     "output_type": "execute_result"
    }
   ],
   "source": [
    "T = copy(T0)\n",
    "@benchmark contract($T)"
   ]
  },
  {
   "cell_type": "code",
   "execution_count": 17,
   "metadata": {},
   "outputs": [
    {
     "data": {
      "text/plain": [
       "BenchmarkTools.Trial: \n",
       "  memory estimate:  858.94 MiB\n",
       "  allocs estimate:  21292\n",
       "  --------------\n",
       "  minimum time:     1.570 s (10.84% GC)\n",
       "  median time:      1.599 s (10.65% GC)\n",
       "  mean time:        1.740 s (17.23% GC)\n",
       "  maximum time:     2.052 s (29.72% GC)\n",
       "  --------------\n",
       "  samples:          3\n",
       "  evals/sample:     1"
      ]
     },
     "execution_count": 17,
     "metadata": {},
     "output_type": "execute_result"
    }
   ],
   "source": [
    "optimize_contraction_order!(T)\n",
    "@benchmark contract($T)"
   ]
  },
  {
   "cell_type": "code",
   "execution_count": 18,
   "metadata": {},
   "outputs": [
    {
     "data": {
      "text/plain": [
       "BenchmarkTools.Trial: \n",
       "  memory estimate:  955.28 MiB\n",
       "  allocs estimate:  1107967\n",
       "  --------------\n",
       "  minimum time:     1.754 s (12.85% GC)\n",
       "  median time:      1.904 s (19.18% GC)\n",
       "  mean time:        1.864 s (19.19% GC)\n",
       "  maximum time:     1.935 s (24.94% GC)\n",
       "  --------------\n",
       "  samples:          3\n",
       "  evals/sample:     1"
      ]
     },
     "execution_count": 18,
     "metadata": {},
     "output_type": "execute_result"
    }
   ],
   "source": [
    "@benchmark copy_and_optimize($T0)"
   ]
  },
  {
   "cell_type": "markdown",
   "metadata": {},
   "source": [
    "# Testing another adder"
   ]
  },
  {
   "cell_type": "code",
   "execution_count": 19,
   "metadata": {},
   "outputs": [],
   "source": [
    "N = 7 # total qubits = 22\n",
    "cgc = qcla_inplace_adder_circuit(N)\n",
    "T0, _ = expectation_value(cgc);"
   ]
  },
  {
   "cell_type": "code",
   "execution_count": 20,
   "metadata": {},
   "outputs": [
    {
     "data": {
      "text/plain": [
       "BenchmarkTools.Trial: \n",
       "  memory estimate:  17.50 GiB\n",
       "  allocs estimate:  40758\n",
       "  --------------\n",
       "  minimum time:     12.767 s (24.45% GC)\n",
       "  median time:      12.767 s (24.45% GC)\n",
       "  mean time:        12.767 s (24.45% GC)\n",
       "  maximum time:     12.767 s (24.45% GC)\n",
       "  --------------\n",
       "  samples:          1\n",
       "  evals/sample:     1"
      ]
     },
     "execution_count": 20,
     "metadata": {},
     "output_type": "execute_result"
    }
   ],
   "source": [
    "T = copy(T0)\n",
    "@benchmark contract($T)"
   ]
  },
  {
   "cell_type": "code",
   "execution_count": 21,
   "metadata": {},
   "outputs": [
    {
     "data": {
      "text/plain": [
       "BenchmarkTools.Trial: \n",
       "  memory estimate:  552.77 MiB\n",
       "  allocs estimate:  19702\n",
       "  --------------\n",
       "  minimum time:     1.029 s (3.44% GC)\n",
       "  median time:      1.089 s (6.81% GC)\n",
       "  mean time:        1.162 s (15.63% GC)\n",
       "  maximum time:     1.387 s (32.07% GC)\n",
       "  --------------\n",
       "  samples:          5\n",
       "  evals/sample:     1"
      ]
     },
     "execution_count": 21,
     "metadata": {},
     "output_type": "execute_result"
    }
   ],
   "source": [
    "optimize_contraction_order!(T)\n",
    "@benchmark contract($T)"
   ]
  },
  {
   "cell_type": "code",
   "execution_count": 22,
   "metadata": {},
   "outputs": [
    {
     "data": {
      "text/plain": [
       "BenchmarkTools.Trial: \n",
       "  memory estimate:  638.12 MiB\n",
       "  allocs estimate:  838869\n",
       "  --------------\n",
       "  minimum time:     1.146 s (5.22% GC)\n",
       "  median time:      1.322 s (17.06% GC)\n",
       "  mean time:        1.332 s (18.08% GC)\n",
       "  maximum time:     1.538 s (29.41% GC)\n",
       "  --------------\n",
       "  samples:          4\n",
       "  evals/sample:     1"
      ]
     },
     "execution_count": 22,
     "metadata": {},
     "output_type": "execute_result"
    }
   ],
   "source": [
    "@benchmark copy_and_optimize($T0)"
   ]
  }
 ],
 "metadata": {
  "kernelspec": {
   "display_name": "Julia 1.5.0",
   "language": "julia",
   "name": "julia-1.5"
  },
  "language_info": {
   "file_extension": ".jl",
   "mimetype": "application/julia",
   "name": "julia",
   "version": "1.5.0"
  }
 },
 "nbformat": 4,
 "nbformat_minor": 4
}
