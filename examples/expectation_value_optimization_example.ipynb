{
 "cells": [
  {
   "cell_type": "code",
   "execution_count": 3,
   "metadata": {},
   "outputs": [
    {
     "name": "stderr",
     "output_type": "stream",
     "text": [
      "┌ Info: Precompiling Qaintensor [c26a0288-a22f-4b8a-8630-7ac49e34be6b]\n",
      "└ @ Base loading.jl:1278\n"
     ]
    }
   ],
   "source": [
    "using Qaintessent\n",
    "using Qaintensor\n",
    "using Qaintensor: optimize_contraction_order!, network_graph, line_graph, tree_decomposition\n",
    "using BenchmarkTools"
   ]
  },
  {
   "cell_type": "markdown",
   "metadata": {},
   "source": [
    "# Optimizing contraction ordering for expectation-value-like TensorNetworks\n",
    "\n",
    "In [Markov & Shi, Simulating quantum computation by contracting tensor networks](https://arxiv.org/abs/quant-ph/0511069.) they study tensor networks that start with a product state and end with the projection onto another product state, as in the example below\n",
    "\n",
    "```\n",
    "1 □—————————————————□———————————□\n",
    "                    |\n",
    "2 □———————————□—————□—————□—————□\n",
    "              |           |\n",
    "3 □—————□———————————————————————□\n",
    "        |     |           |\n",
    "4 □—————□—————□———————————□—————□\n",
    "```\n",
    "\n",
    "These networks are the kind emerging from computing expectation values when starting with a product state. We see a great time saving also for MPS type circuits, **as long as no leg remains uncontracted** (for example, the output is projected into another MPS). The size of all legs of the original tensor should be roughly the same for getting good performance (no different orders of magnitude)\n",
    "\n",
    "They prove that the contraction complexity for tensor networks with no open legs is <i>exponential in the treewidth of the underlying graph</i>, and give an algorithm for constructing an near-optimal contraction ordering given a near-optimal tree decomposition of the network graph. \n",
    "\n",
    "Cases when substantial improvement is achieved are:\n",
    "\n",
    "* <i>Circuits of logarithmic depth</i>: If the depth of the circuit is logarithmic in the number of gates $T$, the complexity is polynomial in $T$\n",
    "* <i>Circuits of local interacting qubits</i>: The complexity goes with $\\exp(\\sqrt{r}\\sqrt{T})$, with $r$ the maximum distance between iteracting qubits and $T$ the total number of gates.\n",
    "\n",
    "Finding the optimal tree decomposition of a graph is NP-complete, but some heuristics perform reasonably well in finding a near-optimal one. We have implemented the _minimum fill-in_ heuristic to provide the tree decomposition. For optimizing the contraction order just apply `optimize_contraction_order!` to a tensor network.\n",
    "\n",
    "Below —after some setup code— you can find some benchmarking for typical circuits"
   ]
  },
  {
   "cell_type": "code",
   "execution_count": 7,
   "metadata": {},
   "outputs": [
    {
     "data": {
      "text/plain": [
       "expectation_value"
      ]
     },
     "execution_count": 7,
     "metadata": {},
     "output_type": "execute_result"
    }
   ],
   "source": [
    "# TODO\n",
    "# BEGIN DELETE: this code is copied from the `mps` branch; delete when merged\n",
    "\n",
    "function ClosedMPS(T::AbstractVector{Tensor})\n",
    "    l = length(T)\n",
    "    @assert ndims(T[1]) == 2\n",
    "    for i in 2:l-1\n",
    "        @assert ndims(T[i]) == 3\n",
    "    end\n",
    "     @assert ndims(T[l]) == 2\n",
    "\n",
    "    contractions = [Summation([1 => 2, 2 => 1]); [Summation([i => 3,i+1 => 1]) for i in 2:l-1]]\n",
    "    openidx = reverse([1 => 1; [i => 2 for i in 2:l]])\n",
    "    tn = TensorNetwork(T, contractions, openidx)\n",
    "    return tn\n",
    "end\n",
    "\n",
    "\n",
    "function shift_summation(S::Summation, step)\n",
    "   return Summation([S.idx[i].first + step => S.idx[i].second for i in 1:2])\n",
    "end\n",
    "\n",
    "# END DELETE\n",
    "Base.ndims(T::Tensor) = ndims(T.data)\n",
    "\n",
    "Base.copy(net::TensorNetwork) = TensorNetwork(copy(net.tensors), copy(net.contractions), copy(net.openidx))\n",
    "crand(dims...) = rand(ComplexF64, dims...)\n",
    "\n",
    "# generate expectation value tensor network\n",
    "\"\"\" Compute the expectation value of a random MPS when run through circuit `cgc`\"\"\"\n",
    "function expectation_value(cgc::CircuitGateChain{N}; is_decompose = false) where N\n",
    "    \n",
    "    tensors = Tensor.([crand(2,2), [crand(2,2,2) for i in 2:N-1]..., crand(2,2)])\n",
    "    T0 = ClosedMPS(tensors)\n",
    "    \n",
    "    T = copy(T0)\n",
    "    tensor_circuit!(T, cgc, is_decompose = is_decompose)\n",
    "    \n",
    "    # measure\n",
    "    T.contractions = [T.contractions; shift_summation.(T0.contractions, length(T.tensors))]\n",
    "    for i in 1:N\n",
    "        push!(T.tensors, T0.tensors[N+1-i])\n",
    "        push!(T.contractions, Summation([T.openidx[end], (length(T.tensors) => T0.openidx[N+1-i].second)]))\n",
    "        pop!(T.openidx)\n",
    "    end\n",
    "    T\n",
    "end"
   ]
  },
  {
   "cell_type": "markdown",
   "metadata": {},
   "source": [
    "# Benchmarking the contraction order that `optimize_contraction_order!` produces\n",
    "\n",
    "For each tensor network we have the following workflow\n",
    "\n",
    "1. Benchmark the normal contraction\n",
    "2. Optimize the contraction order and benchmark again the contraction\n",
    "3. Benchmark the whole workflow (copy + optimize contraction order + contraction) "
   ]
  },
  {
   "cell_type": "markdown",
   "metadata": {},
   "source": [
    "#  QFT"
   ]
  },
  {
   "cell_type": "code",
   "execution_count": 8,
   "metadata": {},
   "outputs": [],
   "source": [
    "N = 20\n",
    "\n",
    "cgc = qft_circuit(N)\n",
    " \n",
    "T0 = expectation_value(cgc);\n",
    "contract(T0); # contract once to compile some of the functions "
   ]
  },
  {
   "cell_type": "code",
   "execution_count": 9,
   "metadata": {},
   "outputs": [
    {
     "data": {
      "text/plain": [
       "BenchmarkTools.Trial: \n",
       "  memory estimate:  6.90 GiB\n",
       "  allocs estimate:  89151\n",
       "  --------------\n",
       "  minimum time:     3.004 s (22.22% GC)\n",
       "  median time:      3.052 s (22.05% GC)\n",
       "  mean time:        3.052 s (22.05% GC)\n",
       "  maximum time:     3.100 s (21.89% GC)\n",
       "  --------------\n",
       "  samples:          2\n",
       "  evals/sample:     1"
      ]
     },
     "execution_count": 9,
     "metadata": {},
     "output_type": "execute_result"
    }
   ],
   "source": [
    "T = copy(T0)\n",
    "@benchmark contract($T)"
   ]
  },
  {
   "cell_type": "code",
   "execution_count": 10,
   "metadata": {},
   "outputs": [
    {
     "data": {
      "text/plain": [
       "BenchmarkTools.Trial: \n",
       "  memory estimate:  208.76 MiB\n",
       "  allocs estimate:  36875\n",
       "  --------------\n",
       "  minimum time:     239.969 ms (7.64% GC)\n",
       "  median time:      280.439 ms (10.50% GC)\n",
       "  mean time:        320.508 ms (18.63% GC)\n",
       "  maximum time:     669.458 ms (71.57% GC)\n",
       "  --------------\n",
       "  samples:          16\n",
       "  evals/sample:     1"
      ]
     },
     "execution_count": 10,
     "metadata": {},
     "output_type": "execute_result"
    }
   ],
   "source": [
    "optimize_contraction_order!(T)\n",
    "@benchmark contract($T)"
   ]
  },
  {
   "cell_type": "code",
   "execution_count": 11,
   "metadata": {},
   "outputs": [
    {
     "data": {
      "text/plain": [
       "BenchmarkTools.Trial: \n",
       "  memory estimate:  511.85 MiB\n",
       "  allocs estimate:  3279901\n",
       "  --------------\n",
       "  minimum time:     619.641 ms (11.58% GC)\n",
       "  median time:      917.911 ms (35.76% GC)\n",
       "  mean time:        884.713 ms (34.01% GC)\n",
       "  maximum time:     1.013 s (42.21% GC)\n",
       "  --------------\n",
       "  samples:          6\n",
       "  evals/sample:     1"
      ]
     },
     "execution_count": 11,
     "metadata": {},
     "output_type": "execute_result"
    }
   ],
   "source": [
    "function copy_and_optimize(T0)\n",
    "    T = copy(T0)\n",
    "    optimize_contraction_order!(T)\n",
    "    contract(T)\n",
    "end\n",
    "\n",
    "@benchmark copy_and_optimize($T0)"
   ]
  },
  {
   "cell_type": "markdown",
   "metadata": {},
   "source": [
    "# Testing with `is_decompose = true`"
   ]
  },
  {
   "cell_type": "code",
   "execution_count": 12,
   "metadata": {},
   "outputs": [],
   "source": [
    "N = 20\n",
    "\n",
    "cgc = qft_circuit(N)\n",
    " \n",
    "T0 = expectation_value(cgc, is_decompose = true);"
   ]
  },
  {
   "cell_type": "code",
   "execution_count": 13,
   "metadata": {},
   "outputs": [
    {
     "data": {
      "text/plain": [
       "BenchmarkTools.Trial: \n",
       "  memory estimate:  31.64 GiB\n",
       "  allocs estimate:  167578\n",
       "  --------------\n",
       "  minimum time:     28.279 s (19.91% GC)\n",
       "  median time:      28.279 s (19.91% GC)\n",
       "  mean time:        28.279 s (19.91% GC)\n",
       "  maximum time:     28.279 s (19.91% GC)\n",
       "  --------------\n",
       "  samples:          1\n",
       "  evals/sample:     1"
      ]
     },
     "execution_count": 13,
     "metadata": {},
     "output_type": "execute_result"
    }
   ],
   "source": [
    "T = copy(T0)\n",
    "@benchmark contract($T)"
   ]
  },
  {
   "cell_type": "code",
   "execution_count": 14,
   "metadata": {},
   "outputs": [
    {
     "data": {
      "text/plain": [
       "BenchmarkTools.Trial: \n",
       "  memory estimate:  142.09 MiB\n",
       "  allocs estimate:  61949\n",
       "  --------------\n",
       "  minimum time:     148.687 ms (6.89% GC)\n",
       "  median time:      174.553 ms (12.91% GC)\n",
       "  mean time:        180.737 ms (13.40% GC)\n",
       "  maximum time:     257.425 ms (24.24% GC)\n",
       "  --------------\n",
       "  samples:          28\n",
       "  evals/sample:     1"
      ]
     },
     "execution_count": 14,
     "metadata": {},
     "output_type": "execute_result"
    }
   ],
   "source": [
    "optimize_contraction_order!(T)\n",
    "@benchmark contract($T)"
   ]
  },
  {
   "cell_type": "code",
   "execution_count": 15,
   "metadata": {},
   "outputs": [
    {
     "data": {
      "text/plain": [
       "BenchmarkTools.Trial: \n",
       "  memory estimate:  688.75 MiB\n",
       "  allocs estimate:  6343072\n",
       "  --------------\n",
       "  minimum time:     698.267 ms (16.16% GC)\n",
       "  median time:      795.603 ms (16.18% GC)\n",
       "  mean time:        788.832 ms (16.44% GC)\n",
       "  maximum time:     860.370 ms (14.25% GC)\n",
       "  --------------\n",
       "  samples:          7\n",
       "  evals/sample:     1"
      ]
     },
     "execution_count": 15,
     "metadata": {},
     "output_type": "execute_result"
    }
   ],
   "source": [
    "@benchmark copy_and_optimize($T0)"
   ]
  },
  {
   "cell_type": "markdown",
   "metadata": {},
   "source": [
    "# Testing adder without decompose"
   ]
  },
  {
   "cell_type": "code",
   "execution_count": 16,
   "metadata": {},
   "outputs": [],
   "source": [
    "N = 7 # total qubits = 22\n",
    "cgc = vbe_adder_circuit(N)\n",
    "T0 = expectation_value(cgc);"
   ]
  },
  {
   "cell_type": "code",
   "execution_count": 17,
   "metadata": {},
   "outputs": [
    {
     "data": {
      "text/plain": [
       "BenchmarkTools.Trial: \n",
       "  memory estimate:  6.25 GiB\n",
       "  allocs estimate:  30905\n",
       "  --------------\n",
       "  minimum time:     5.272 s (27.56% GC)\n",
       "  median time:      5.272 s (27.56% GC)\n",
       "  mean time:        5.272 s (27.56% GC)\n",
       "  maximum time:     5.272 s (27.56% GC)\n",
       "  --------------\n",
       "  samples:          1\n",
       "  evals/sample:     1"
      ]
     },
     "execution_count": 17,
     "metadata": {},
     "output_type": "execute_result"
    }
   ],
   "source": [
    "T = copy(T0)\n",
    "@benchmark contract($T)"
   ]
  },
  {
   "cell_type": "code",
   "execution_count": 18,
   "metadata": {},
   "outputs": [
    {
     "data": {
      "text/plain": [
       "BenchmarkTools.Trial: \n",
       "  memory estimate:  567.12 MiB\n",
       "  allocs estimate:  14568\n",
       "  --------------\n",
       "  minimum time:     741.391 ms (6.44% GC)\n",
       "  median time:      765.129 ms (7.46% GC)\n",
       "  mean time:        843.136 ms (16.66% GC)\n",
       "  maximum time:     1.125 s (36.06% GC)\n",
       "  --------------\n",
       "  samples:          6\n",
       "  evals/sample:     1"
      ]
     },
     "execution_count": 18,
     "metadata": {},
     "output_type": "execute_result"
    }
   ],
   "source": [
    "optimize_contraction_order!(T)\n",
    "@benchmark contract($T)"
   ]
  },
  {
   "cell_type": "code",
   "execution_count": 19,
   "metadata": {},
   "outputs": [
    {
     "data": {
      "text/plain": [
       "BenchmarkTools.Trial: \n",
       "  memory estimate:  621.31 MiB\n",
       "  allocs estimate:  581792\n",
       "  --------------\n",
       "  minimum time:     794.480 ms (10.09% GC)\n",
       "  median time:      801.267 ms (9.65% GC)\n",
       "  mean time:        868.801 ms (16.02% GC)\n",
       "  maximum time:     1.051 s (32.74% GC)\n",
       "  --------------\n",
       "  samples:          6\n",
       "  evals/sample:     1"
      ]
     },
     "execution_count": 19,
     "metadata": {},
     "output_type": "execute_result"
    }
   ],
   "source": [
    "@benchmark copy_and_optimize($T0)"
   ]
  },
  {
   "cell_type": "markdown",
   "metadata": {},
   "source": [
    "# With decompose"
   ]
  },
  {
   "cell_type": "code",
   "execution_count": 20,
   "metadata": {},
   "outputs": [],
   "source": [
    "N = 7 # total qubits = 22\n",
    "cgc = vbe_adder_circuit(N)\n",
    "T0 = expectation_value(cgc, is_decompose = true);"
   ]
  },
  {
   "cell_type": "code",
   "execution_count": 21,
   "metadata": {},
   "outputs": [
    {
     "data": {
      "text/plain": [
       "BenchmarkTools.Trial: \n",
       "  memory estimate:  46.82 GiB\n",
       "  allocs estimate:  63580\n",
       "  --------------\n",
       "  minimum time:     30.052 s (21.97% GC)\n",
       "  median time:      30.052 s (21.97% GC)\n",
       "  mean time:        30.052 s (21.97% GC)\n",
       "  maximum time:     30.052 s (21.97% GC)\n",
       "  --------------\n",
       "  samples:          1\n",
       "  evals/sample:     1"
      ]
     },
     "execution_count": 21,
     "metadata": {},
     "output_type": "execute_result"
    }
   ],
   "source": [
    "T = copy(T0)\n",
    "@benchmark contract($T)"
   ]
  },
  {
   "cell_type": "code",
   "execution_count": 22,
   "metadata": {},
   "outputs": [
    {
     "data": {
      "text/plain": [
       "BenchmarkTools.Trial: \n",
       "  memory estimate:  858.94 MiB\n",
       "  allocs estimate:  21292\n",
       "  --------------\n",
       "  minimum time:     1.518 s (7.82% GC)\n",
       "  median time:      1.555 s (10.80% GC)\n",
       "  mean time:        1.709 s (17.34% GC)\n",
       "  maximum time:     2.053 s (29.32% GC)\n",
       "  --------------\n",
       "  samples:          3\n",
       "  evals/sample:     1"
      ]
     },
     "execution_count": 22,
     "metadata": {},
     "output_type": "execute_result"
    }
   ],
   "source": [
    "optimize_contraction_order!(T)\n",
    "@benchmark contract($T)"
   ]
  },
  {
   "cell_type": "code",
   "execution_count": 23,
   "metadata": {},
   "outputs": [
    {
     "data": {
      "text/plain": [
       "BenchmarkTools.Trial: \n",
       "  memory estimate:  955.28 MiB\n",
       "  allocs estimate:  1107967\n",
       "  --------------\n",
       "  minimum time:     2.013 s (10.75% GC)\n",
       "  median time:      2.094 s (18.03% GC)\n",
       "  mean time:        2.195 s (17.21% GC)\n",
       "  maximum time:     2.478 s (21.76% GC)\n",
       "  --------------\n",
       "  samples:          3\n",
       "  evals/sample:     1"
      ]
     },
     "execution_count": 23,
     "metadata": {},
     "output_type": "execute_result"
    }
   ],
   "source": [
    "@benchmark copy_and_optimize($T0)"
   ]
  },
  {
   "cell_type": "markdown",
   "metadata": {},
   "source": [
    "# Testing another adder"
   ]
  },
  {
   "cell_type": "code",
   "execution_count": 24,
   "metadata": {},
   "outputs": [],
   "source": [
    "N = 7 # total qubits = 22\n",
    "cgc = qcla_inplace_adder_circuit(N)\n",
    "T0 = expectation_value(cgc);"
   ]
  },
  {
   "cell_type": "code",
   "execution_count": 25,
   "metadata": {},
   "outputs": [
    {
     "data": {
      "text/plain": [
       "BenchmarkTools.Trial: \n",
       "  memory estimate:  17.50 GiB\n",
       "  allocs estimate:  40758\n",
       "  --------------\n",
       "  minimum time:     13.106 s (24.46% GC)\n",
       "  median time:      13.106 s (24.46% GC)\n",
       "  mean time:        13.106 s (24.46% GC)\n",
       "  maximum time:     13.106 s (24.46% GC)\n",
       "  --------------\n",
       "  samples:          1\n",
       "  evals/sample:     1"
      ]
     },
     "execution_count": 25,
     "metadata": {},
     "output_type": "execute_result"
    }
   ],
   "source": [
    "T = copy(T0)\n",
    "@benchmark contract($T)"
   ]
  },
  {
   "cell_type": "code",
   "execution_count": 26,
   "metadata": {},
   "outputs": [
    {
     "data": {
      "text/plain": [
       "BenchmarkTools.Trial: \n",
       "  memory estimate:  552.77 MiB\n",
       "  allocs estimate:  19702\n",
       "  --------------\n",
       "  minimum time:     1.097 s (3.35% GC)\n",
       "  median time:      1.449 s (12.15% GC)\n",
       "  mean time:        1.394 s (15.06% GC)\n",
       "  maximum time:     1.580 s (28.54% GC)\n",
       "  --------------\n",
       "  samples:          4\n",
       "  evals/sample:     1"
      ]
     },
     "execution_count": 26,
     "metadata": {},
     "output_type": "execute_result"
    }
   ],
   "source": [
    "optimize_contraction_order!(T)\n",
    "@benchmark contract($T)"
   ]
  },
  {
   "cell_type": "code",
   "execution_count": 27,
   "metadata": {},
   "outputs": [
    {
     "data": {
      "text/plain": [
       "BenchmarkTools.Trial: \n",
       "  memory estimate:  638.12 MiB\n",
       "  allocs estimate:  838869\n",
       "  --------------\n",
       "  minimum time:     1.229 s (8.53% GC)\n",
       "  median time:      1.336 s (16.52% GC)\n",
       "  mean time:        1.343 s (17.80% GC)\n",
       "  maximum time:     1.473 s (30.54% GC)\n",
       "  --------------\n",
       "  samples:          4\n",
       "  evals/sample:     1"
      ]
     },
     "execution_count": 27,
     "metadata": {},
     "output_type": "execute_result"
    }
   ],
   "source": [
    "@benchmark copy_and_optimize($T0)"
   ]
  }
 ],
 "metadata": {
  "kernelspec": {
   "display_name": "Julia 1.5.0",
   "language": "julia",
   "name": "julia-1.5"
  },
  "language_info": {
   "file_extension": ".jl",
   "mimetype": "application/julia",
   "name": "julia",
   "version": "1.5.0"
  }
 },
 "nbformat": 4,
 "nbformat_minor": 4
}
