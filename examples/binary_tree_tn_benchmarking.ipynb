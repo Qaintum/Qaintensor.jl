{
 "cells": [
  {
   "cell_type": "code",
   "execution_count": 7,
   "metadata": {},
   "outputs": [],
   "source": [
    "using Qaintessent\n",
    "using Qaintensor\n",
    "using LinearAlgebra\n",
    "using BenchmarkTools"
   ]
  },
  {
   "cell_type": "markdown",
   "metadata": {},
   "source": [
    "# Binary tree tensor networks\n",
    "\n",
    "The paradigmatic tensor network for one dimension is the *Matrix Product State* (MPS), which consists on a chain of tensors, each of them connected with their previous and next neighbouring tensors. MPS states might seem the most natural representation for the input state of a quantum circuit, since we usually represent qubits in a line. Nevertheless, note that the distance between two qubits in a MPS is  $O(N)$ in the worst case, where $N$ is the number of particles in the chain. This means that, when applying an arbitrary gate to two qubits, we might increase the bond dimension -- and therefore the entanglement -- of the whole chain, whereas we actually only want to affect a small region. An increase in the bond dimension results in an increase of the complexity of the contraction of the final state, which can then become highly inefficient. "
   ]
  },
  {
   "cell_type": "markdown",
   "metadata": {},
   "source": [
    "<img src=\"figures/mps.png\" alt=\"Drawing\" style=\"width: 400px;\" >"
   ]
  },
  {
   "cell_type": "markdown",
   "metadata": {},
   "source": [
    "We wonder then if there are other tensor network descriptions that can keep capture better the locality of the gates that we apply, increasing the bond dimension only in the subset of qubits that we act on. Here we study Tree Tensor Network (TNN), in particular binary tree tensor networks, as candidates. For more details about tree tensor networks, check for example [this.](https://arxiv.org/abs/quant-ph/0511070v2)\n",
    "\n",
    "Note that in a binatry TNN, two qubits are at a distance of $O(log N)$ on the worst case, as seen in the Figure below. \n",
    "\n",
    "<img src=\"figures/tree.png\" alt=\"Drawing\" style=\"width: 400px;\"/>"
   ]
  },
  {
   "cell_type": "markdown",
   "metadata": {},
   "source": [
    "# Benchmarking: 2-qubit operator acting on extreme qubits"
   ]
  },
  {
   "cell_type": "markdown",
   "metadata": {},
   "source": [
    "The efficiency of using binary tree tensor network compared to MPS will be noticed when $2 log (N) > N$, where $N$ is the number of qubits."
   ]
  },
  {
   "cell_type": "code",
   "execution_count": 15,
   "metadata": {},
   "outputs": [],
   "source": [
    "N, M = 8, 2\n",
    "iwire = (1,8)\n",
    "\n",
    "U = rand(ComplexF64, 2^M ,2^M)\n",
    "\n",
    "ψ = rand(ComplexF64, 2^N)\n",
    "ψ_tree = binary_tree(ψ)\n",
    "ψ_mps = MPS(ψ)\n",
    "\n",
    "ψ_tree_updated = apply_MPO_binarytree(ψ_tree, MPO(U), iwire)\n",
    "ψ_mps_updated = apply_MPO(ψ_mps, MPO(U), iwire);"
   ]
  },
  {
   "cell_type": "code",
   "execution_count": 16,
   "metadata": {},
   "outputs": [
    {
     "data": {
      "text/plain": [
       "BenchmarkTools.Trial: \n",
       "  memory estimate:  417.69 KiB\n",
       "  allocs estimate:  3355\n",
       "  --------------\n",
       "  minimum time:     576.286 μs (0.00% GC)\n",
       "  median time:      597.370 μs (0.00% GC)\n",
       "  mean time:        683.214 μs (7.86% GC)\n",
       "  maximum time:     8.267 ms (83.56% GC)\n",
       "  --------------\n",
       "  samples:          7278\n",
       "  evals/sample:     1"
      ]
     },
     "execution_count": 16,
     "metadata": {},
     "output_type": "execute_result"
    }
   ],
   "source": [
    "@benchmark contract($ψ_tree_updated)"
   ]
  },
  {
   "cell_type": "code",
   "execution_count": 17,
   "metadata": {},
   "outputs": [
    {
     "data": {
      "text/plain": [
       "BenchmarkTools.Trial: \n",
       "  memory estimate:  3.46 MiB\n",
       "  allocs estimate:  1518\n",
       "  --------------\n",
       "  minimum time:     2.053 ms (0.00% GC)\n",
       "  median time:      2.488 ms (0.00% GC)\n",
       "  mean time:        3.120 ms (12.21% GC)\n",
       "  maximum time:     33.963 ms (62.35% GC)\n",
       "  --------------\n",
       "  samples:          1594\n",
       "  evals/sample:     1"
      ]
     },
     "execution_count": 17,
     "metadata": {},
     "output_type": "execute_result"
    }
   ],
   "source": [
    "@benchmark contract($ψ_mps_updated)"
   ]
  },
  {
   "cell_type": "markdown",
   "metadata": {},
   "source": [
    "# Benchmarking: QFT\n",
    "\n",
    "**TO DO!**"
   ]
  }
 ],
 "metadata": {
  "kernelspec": {
   "display_name": "Julia 1.4.0",
   "language": "julia",
   "name": "julia-1.4"
  },
  "language_info": {
   "file_extension": ".jl",
   "mimetype": "application/julia",
   "name": "julia",
   "version": "1.4.0"
  }
 },
 "nbformat": 4,
 "nbformat_minor": 2
}
