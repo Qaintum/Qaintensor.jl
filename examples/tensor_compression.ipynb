{
 "cells": [
  {
   "cell_type": "markdown",
   "metadata": {},
   "source": [
    "# Tensor Compression\n",
    "\n",
    "In this example, we implement the optimization of a tensor networked based on the algorithm by Pollman et al. [1]. This finds the optimal 2-qubit tensors required to approximate an update based on an Ising Hamiltonian."
   ]
  },
  {
   "cell_type": "code",
   "execution_count": 1,
   "metadata": {},
   "outputs": [],
   "source": [
    "using Qaintensor\n",
    "using LinearAlgebra\n",
    "using StatsBase: sample\n",
    "using Qaintessent\n"
   ]
  },
  {
   "cell_type": "markdown",
   "metadata": {},
   "source": [
    "Below, we generate the Ising hamiltonian with a transverse field, given a timestep of $\\delta t  = 0.1$\n",
    "\n",
    "\\begin{equation}\n",
    "H_{ising} = \\sum_{<i,j>}{\\sigma_{x}^{(i)}\\sigma_{x}^{(j)}} + h\\sum_{j}{\\sigma_{z}^{(j)}}\n",
    "\\end{equation}\n",
    "The notation $<i,j>$ indicates that sum runs over adjacent sites on a given lattice."
   ]
  },
  {
   "cell_type": "code",
   "execution_count": 2,
   "metadata": {},
   "outputs": [],
   "source": [
    "N = 7\n",
    "\n",
    "function rkron(m, N::Int)\n",
    "    for i in 1:N-1\n",
    "        m = kron(m, Matrix{ComplexF64}(I, 2, 2))\n",
    "    end\n",
    "    m\n",
    "end\n",
    "\n",
    "function lkron(m, N::Int)\n",
    "    for i in 1:N\n",
    "        m = kron(Matrix{ComplexF64}(I, 2, 2), m)\n",
    "    end\n",
    "    m\n",
    "end\n",
    "\n",
    "function ising_hamiltonian(h::Float64, N::Int)\n",
    "    N >= 2 || error(\"Only produces Hamiltionians for N >= 2\")\n",
    "    x_matrix = Qaintessent.matrix(X)\n",
    "    z_matrix = Qaintessent.matrix(Z)\n",
    "    \n",
    "    m = zeros(ComplexF64, (2^N, 2^N))\n",
    "    hx_matrix = h*x_matrix\n",
    "    for i in 0:N-1\n",
    "        m_new = lkron(rkron(hx_matrix, N-i), i)\n",
    "        m += m_new\n",
    "    end\n",
    "    kron_x_matrix = kron(x_matrix, x_matrix)\n",
    "    for i in 0:N-2\n",
    "        m_new = lkron(rkron(kron_x_matrix, N-i-1), i)\n",
    "        m -= m_new\n",
    "    end\n",
    "    m\n",
    "end \n",
    "Δt = 0.1\n",
    "h = rand(Float64)\n",
    "m = MPO(exp(-im*Δt*ising_hamiltonian(h, N)));"
   ]
  },
  {
   "cell_type": "markdown",
   "metadata": {},
   "source": [
    "We generate a ground state of $|0_{N}\\rangle$ to begin the optimization and find the exact state after 1 timestep, $t_1$."
   ]
  },
  {
   "cell_type": "code",
   "execution_count": 3,
   "metadata": {},
   "outputs": [],
   "source": [
    "v = zeros(ComplexF64, 2^N)\n",
    "v[1] = 1\n",
    "t0 = MPS(v)\n",
    "sol = contract(apply_MPO(t0, m, Tuple(1:N)))[:];\n",
    "t1 = MPS(sol);"
   ]
  },
  {
   "cell_type": "markdown",
   "metadata": {},
   "source": [
    "We define a function that generates a trotterized layer of 2-dimensional 4x4 tensors initialized to a I state."
   ]
  },
  {
   "cell_type": "code",
   "execution_count": 4,
   "metadata": {},
   "outputs": [
    {
     "data": {
      "text/plain": [
       "trotterized_layer! (generic function with 1 method)"
      ]
     },
     "execution_count": 4,
     "metadata": {},
     "output_type": "execute_result"
    }
   ],
   "source": [
    "function trotterized_layer!(tn::MPS, N)\n",
    "    wires = length(tn.openidx)\n",
    "    m = Tensor(reshape(Matrix{ComplexF64}(I, 4, 4), (2,2,2,2)))\n",
    "    for j in 0:N-1\n",
    "        for i in 1:wires-1\n",
    "            push!(tn.tensors, deepcopy(m))\n",
    "        end\n",
    "        for i in 1:wires-wires%2\n",
    "            push!(tn.contractions, Summation([tn.openidx[i], j*(wires-1)+wires+i-(i+1)%2=>2-i%2]))\n",
    "            tn.openidx[i] = j*(wires-1)+wires+i-(i+1)%2=>4-i%2\n",
    "        end\n",
    "        for i in 2:wires-(wires+1)%2\n",
    "            push!(tn.contractions, Summation([tn.openidx[i], j*(wires-1)+wires+i-i%2=>1+i%2]))\n",
    "            tn.openidx[i] =  j*(wires-1)+wires+i-i%2=>3+i%2\n",
    "        end\n",
    "    end\n",
    "end"
   ]
  },
  {
   "cell_type": "markdown",
   "metadata": {},
   "source": [
    "We set the number of layers $L$ to 2 and apply $L$ layers to the initial state $t_0$."
   ]
  },
  {
   "cell_type": "code",
   "execution_count": 5,
   "metadata": {},
   "outputs": [],
   "source": [
    "L = 2\n",
    "\n",
    "t0_tilde = deepcopy(t0)\n",
    "trotterized_layer!(t0_tilde, L)"
   ]
  },
  {
   "cell_type": "markdown",
   "metadata": {},
   "source": [
    "We then define the optimize_layers function, which provides an update step based on the polar decomposition. Refer to [1] for more details."
   ]
  },
  {
   "cell_type": "code",
   "execution_count": 6,
   "metadata": {},
   "outputs": [
    {
     "data": {
      "text/plain": [
       "optimize_layers! (generic function with 1 method)"
      ]
     },
     "execution_count": 6,
     "metadata": {},
     "output_type": "execute_result"
    }
   ],
   "source": [
    "function combine_tensors(tn0, tn1, wires, shift)\n",
    "    ev = deepcopy(tn0)\n",
    "    append!(ev.tensors, tn1.tensors)\n",
    "    for i in 1:wires\n",
    "        push!(ev.contractions, Summation([ev.openidx[1], Qaintensor.shift_pair(tn1.openidx[i], shift)]))\n",
    "        popfirst!(ev.openidx)\n",
    "    end\n",
    "    append!(ev.contractions, [Summation(Qaintensor.shift_pair.(m.idx, shift)) for m in tn1.contractions])\n",
    "    ev\n",
    "end\n",
    "\n",
    "function optimize_layers!(tn0, tn1)\n",
    "    wires = length(tn0.openidx)\n",
    "    shift = length(tn0.tensors)\n",
    "    ev = combine_tensors(tn0, tn1, wires, shift)\n",
    "    tensor_num = length(ev.tensors)\n",
    "    total_contractions = deepcopy(ev.contractions)\n",
    "    total_tensors = deepcopy(ev.tensors)\n",
    "    er=0\n",
    "    for i in wires+1:tensor_num-wires\n",
    "        contractions = Summation[]\n",
    "        open_wires = Pair[]\n",
    "        for contraction in total_contractions\n",
    "            bonds = first.(contraction.idx) .== i\n",
    "            if any(bonds)\n",
    "                open_wire = [wire.first > i ? wire.first-1=>wire.second : wire for wire in contraction.idx[.!bonds]]\n",
    "                append!(open_wires, open_wire)\n",
    "            else\n",
    "                s = Summation([m.first > i ? m.first-1=>m.second : m for m in contraction.idx])\n",
    "                push!(contractions, s)\n",
    "            end\n",
    "        end\n",
    "        ev.tensors = append!(total_tensors[1:i-1], total_tensors[i+1:end])\n",
    "        ev.contractions = contractions\n",
    "        ev.openidx = open_wires\n",
    "        output = permutedims(contract(ev), (3,4,1,2))\n",
    "        U,S,V = svd(reshape(output, (4,4)))\n",
    "        output = reshape(V*adjoint(U), (2,2,2,2))\n",
    "        total_tensors[i] = Tensor(output)\n",
    "        tn0.tensors[i] = total_tensors[i]\n",
    "        ev.tensors = total_tensors\n",
    "        ev.contractions = total_contractions\n",
    "        ev.openidx = []\n",
    "        er = contract(ev)\n",
    "    end\n",
    "    1-norm(er)^2\n",
    "end"
   ]
  },
  {
   "cell_type": "code",
   "execution_count": 7,
   "metadata": {},
   "outputs": [
    {
     "name": "stdout",
     "output_type": "stream",
     "text": [
      "The error of is: 0.00505025600241038\n",
      "The error of is: 0.00014330334110945753\n"
     ]
    }
   ],
   "source": [
    "er = Inf\n",
    "while er > 0.0005\n",
    "    er = optimize_layers!(t0_tilde, t1);\n",
    "    println(\"The error of is: \" * string(er))\n",
    "end"
   ]
  },
  {
   "cell_type": "markdown",
   "metadata": {},
   "source": [
    "[1] Lin, Sheng-Hsuan, et al. “Real- and Imaginary-Time Evolution with Compressed Quantum Circuits.” ArXiv:2008.10322 [Cond-Mat, Physics:Quant-Ph], Sept. 2020. arXiv.org, http://arxiv.org/abs/2008.10322.\n"
   ]
  }
 ],
 "metadata": {
  "kernelspec": {
   "display_name": "Julia 1.5.0",
   "language": "julia",
   "name": "julia-1.5"
  },
  "language_info": {
   "file_extension": ".jl",
   "mimetype": "application/julia",
   "name": "julia",
   "version": "1.5.0"
  }
 },
 "nbformat": 4,
 "nbformat_minor": 2
}
